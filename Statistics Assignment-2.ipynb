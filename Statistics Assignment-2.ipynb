{
 "cells": [
  {
   "cell_type": "code",
   "execution_count": 16,
   "id": "16c5c230",
   "metadata": {},
   "outputs": [],
   "source": [
    "import numpy as np\n",
    "from scipy import stats "
   ]
  },
  {
   "cell_type": "code",
   "execution_count": 17,
   "id": "4cdeb5ad",
   "metadata": {},
   "outputs": [],
   "source": [
    "# EXERCISE 1. \n",
    "# Suppose scores on exams in statistics are normally distributed with an unknown population \n",
    "# mean and a population standard deviation of 3 points. A random sample of 36 scores is taken and gives a sample \n",
    "#mean (sample  mean score) of 68. Find a confidence interval estimate for the population mean exam score \n",
    "#(the mean score on all exams).\n",
    "# Find a 90% confidence interval for the true (population) mean of statistics exam scores. "
   ]
  },
  {
   "cell_type": "code",
   "execution_count": 31,
   "id": "727371e8",
   "metadata": {},
   "outputs": [],
   "source": [
    "x_bar = 68\n",
    "n = 36\n",
    "s = 3\n",
    "ci = 90\n",
    "alpha = 0.10"
   ]
  },
  {
   "cell_type": "code",
   "execution_count": 32,
   "id": "949c3b99",
   "metadata": {},
   "outputs": [
    {
     "data": {
      "text/plain": [
       "0.5"
      ]
     },
     "execution_count": 32,
     "metadata": {},
     "output_type": "execute_result"
    }
   ],
   "source": [
    "#Standard error of mean\n",
    "#standart sapma/sample karekoku \n",
    "sem = 3/np.sqrt(36)\n",
    "sem"
   ]
  },
  {
   "cell_type": "code",
   "execution_count": 20,
   "id": "16ec672d",
   "metadata": {},
   "outputs": [
    {
     "data": {
      "text/plain": [
       "(67.17757318652427, 68.82242681347573)"
      ]
     },
     "execution_count": 20,
     "metadata": {},
     "output_type": "execute_result"
    }
   ],
   "source": [
    "# stats.norm.interval bu ci araligini veriyor \n",
    "stats.norm.interval(0.9, loc = x_bar, scale = sem)"
   ]
  },
  {
   "cell_type": "code",
   "execution_count": 21,
   "id": "21530014",
   "metadata": {},
   "outputs": [
    {
     "data": {
      "text/plain": [
       "(67.15521377301812, 68.84478622698188)"
      ]
     },
     "execution_count": 21,
     "metadata": {},
     "output_type": "execute_result"
    }
   ],
   "source": [
    "#calculation via t value \n",
    "stats.t.interval(0.9, (n-1), loc = x_bar, scale = sem)"
   ]
  },
  {
   "cell_type": "code",
   "execution_count": null,
   "id": "dc8be4d0",
   "metadata": {},
   "outputs": [],
   "source": [
    "# EXERCISE 2. \n",
    "# What is the normal body temperature for healthy humans? A random sample of 130 healthy human body temperatures \n",
    "# provided by Allen Shoemaker7 yielded 98.25 degrees and standard deviation 0.73 degrees. \n",
    "# Give a 99% confidence interval for the average body temperature of healthy people."
   ]
  },
  {
   "cell_type": "code",
   "execution_count": 46,
   "id": "021871df",
   "metadata": {},
   "outputs": [],
   "source": [
    "x_bar = 98.25\n",
    "n = 130\n",
    "s = 0.73\n",
    "ci = 99"
   ]
  },
  {
   "cell_type": "code",
   "execution_count": 47,
   "id": "38c2615b",
   "metadata": {},
   "outputs": [
    {
     "data": {
      "text/plain": [
       "0.06402523540941313"
      ]
     },
     "execution_count": 47,
     "metadata": {},
     "output_type": "execute_result"
    }
   ],
   "source": [
    "sem = s/np.sqrt(n)\n",
    "sem"
   ]
  },
  {
   "cell_type": "code",
   "execution_count": 48,
   "id": "7dff173a",
   "metadata": {},
   "outputs": [
    {
     "data": {
      "text/plain": [
       "(98.08508192246582, 98.41491807753418)"
      ]
     },
     "execution_count": 48,
     "metadata": {},
     "output_type": "execute_result"
    }
   ],
   "source": [
    "stats.norm.interval(0.99, loc = x_bar, scale = sem)"
   ]
  },
  {
   "cell_type": "code",
   "execution_count": 49,
   "id": "48d6f7f4",
   "metadata": {},
   "outputs": [
    {
     "data": {
      "text/plain": [
       "(98.08260738705933, 98.41739261294067)"
      ]
     },
     "execution_count": 49,
     "metadata": {},
     "output_type": "execute_result"
    }
   ],
   "source": [
    "stats.t.interval(0.99, n-1, loc = x_bar, scale = sem)"
   ]
  },
  {
   "cell_type": "code",
   "execution_count": null,
   "id": "b6bb6110",
   "metadata": {},
   "outputs": [],
   "source": [
    "# EXERCISE 3. \n",
    "# The administrators for a hospital wished to estimate the average number of days required for inpatient treatment \n",
    "#of patients between the ages of 25 and 34. A random sample of 500 hospital patients between these ages produced a \n",
    "#mean and standard deviation equal to 5.4 and 3.1 days, respectively.\n",
    "# Construct a 95% confidence interval for the mean length of stay for the population of patients from which the \n",
    "#sample was drawn."
   ]
  },
  {
   "cell_type": "code",
   "execution_count": 42,
   "id": "c8097171",
   "metadata": {},
   "outputs": [],
   "source": [
    "x_bar = 5.4\n",
    "n = 500\n",
    "s = 3.1\n",
    "ci = 95"
   ]
  },
  {
   "cell_type": "code",
   "execution_count": 43,
   "id": "f487c151",
   "metadata": {},
   "outputs": [
    {
     "data": {
      "text/plain": [
       "0.13863621460498696"
      ]
     },
     "execution_count": 43,
     "metadata": {},
     "output_type": "execute_result"
    }
   ],
   "source": [
    "sem = s/np.sqrt(n)\n",
    "sem"
   ]
  },
  {
   "cell_type": "code",
   "execution_count": 44,
   "id": "6b1fc10f",
   "metadata": {},
   "outputs": [
    {
     "data": {
      "text/plain": [
       "(5.127617354510309, 5.672382645489692)"
      ]
     },
     "execution_count": 44,
     "metadata": {},
     "output_type": "execute_result"
    }
   ],
   "source": [
    "stats.t.interval(0.95,n-1,  loc = x_bar, scale = sem)"
   ]
  }
 ],
 "metadata": {
  "kernelspec": {
   "display_name": "Python 3 (ipykernel)",
   "language": "python",
   "name": "python3"
  },
  "language_info": {
   "codemirror_mode": {
    "name": "ipython",
    "version": 3
   },
   "file_extension": ".py",
   "mimetype": "text/x-python",
   "name": "python",
   "nbconvert_exporter": "python",
   "pygments_lexer": "ipython3",
   "version": "3.9.12"
  }
 },
 "nbformat": 4,
 "nbformat_minor": 5
}
